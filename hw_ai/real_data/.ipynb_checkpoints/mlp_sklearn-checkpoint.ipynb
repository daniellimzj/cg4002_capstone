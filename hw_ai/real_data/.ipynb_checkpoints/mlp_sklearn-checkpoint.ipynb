{
 "cells": [
  {
   "cell_type": "code",
   "execution_count": 1,
   "id": "f795cb2b",
   "metadata": {},
   "outputs": [],
   "source": [
    "import pandas as pd\n",
    "import matplotlib.pyplot as plt\n",
    "import numpy as np\n",
    "from hyperopt import fmin, tpe, Trials, hp, STATUS_OK\n",
    "from sklearn.model_selection import train_test_split\n",
    "from sklearn.neural_network import MLPClassifier\n",
    "from sklearn.metrics import accuracy_score, classification_report, confusion_matrix, ConfusionMatrixDisplay\n",
    "\n",
    "# config\n",
    "np.set_printoptions(threshold=np.inf)\n",
    "np.set_printoptions(formatter={'float_kind':'{:.12f}'.format})"
   ]
  },
  {
   "cell_type": "code",
   "execution_count": 2,
   "id": "bb53af1f",
   "metadata": {},
   "outputs": [],
   "source": [
    "data = pd.read_csv('extracted_features.csv')\n",
    "x = data[['Mean-accX','Range-accX','Var-accX', 'Median-accX'\n",
    "          'Mean-accY\tRange-accY\tVar-accY\tMedian-accY\tMean-accZ\tRange-accZ\tVar-accZ\tMedian-accZ\tMean-gyroX\tRange-gyroX\tVar-gyroX\tMedian-gyroX\tMean-gyroY\tRange-gyroY\tVar-gyroY\tMedian-gyroY\tMean-gyroZ\tRange-gyroZ\tVar-gyroZ\tMedian-gyroZ\n",
    "\n",
    "          ]]\n",
    "y = data[['label']]\n",
    "y = y.values.reshape(-1, )\n",
    "x_train, x_test, y_train, y_test = train_test_split(x, y, test_size=0.3, random_state=42)"
   ]
  },
  {
   "cell_type": "code",
   "execution_count": 3,
   "id": "1751af86",
   "metadata": {},
   "outputs": [
    {
     "name": "stdout",
     "output_type": "stream",
     "text": [
      "baseline accuracy:0.9381270903010034\n"
     ]
    },
    {
     "name": "stderr",
     "output_type": "stream",
     "text": [
      "C:\\Users\\Yong Han\\anaconda3\\envs\\pythonProject1\\lib\\site-packages\\sklearn\\neural_network\\_multilayer_perceptron.py:702: ConvergenceWarning: Stochastic Optimizer: Maximum iterations (200) reached and the optimization hasn't converged yet.\n",
      "  warnings.warn(\n"
     ]
    }
   ],
   "source": [
    "baseline_classifier = MLPClassifier(hidden_layer_sizes=(5,),\n",
    "                                    activation='tanh',)\n",
    "baseline_classifier.fit(x_train, y_train)\n",
    "y_baseline_pred = baseline_classifier.predict(x_test)\n",
    "print(\"baseline accuracy:\" + str(accuracy_score(y_test, y_baseline_pred)))"
   ]
  },
  {
   "cell_type": "code",
   "execution_count": 4,
   "id": "ba880db8",
   "metadata": {},
   "outputs": [
    {
     "name": "stdout",
     "output_type": "stream",
     "text": [
      "100%|███████████████████████████████████████████████| 50/50 [10:58<00:00, 13.17s/trial, best loss: -0.9756330625895844]\n",
      "Training Accuracy: 0.999386\n",
      "Testing Accuracy: 0.975633\n"
     ]
    },
    {
     "data": {
      "image/png": "[encoded data removed]",
      "text/plain": [
       "<Figure size 432x288 with 2 Axes>"
      ]
     },
     "metadata": {
      "needs_background": "light"
     },
     "output_type": "display_data"
    },
    {
     "name": "stdout",
     "output_type": "stream",
     "text": [
      "              precision    recall  f1-score   support\n",
      "\n",
      "           1       0.90      0.94      0.92       370\n",
      "           2       0.95      0.92      0.94       466\n",
      "           3       1.00      1.00      1.00      1004\n",
      "           4       1.00      1.00      1.00       957\n",
      "           5       0.97      0.97      0.97       995\n",
      "           6       0.98      0.98      0.98       394\n",
      "\n",
      "    accuracy                           0.98      4186\n",
      "   macro avg       0.97      0.97      0.97      4186\n",
      "weighted avg       0.98      0.98      0.98      4186\n",
      "\n",
      "MLPClassifier(activation='tanh', alpha=0.001076347410685364,\n",
      "              hidden_layer_sizes=(50, 50),\n",
      "              learning_rate_init=0.0003308813150938435, max_iter=2000)\n"
     ]
    }
   ],
   "source": [
    "# # Hyperparameter Optimization\n",
    "coarse_search_space = \\\n",
    "    {'hidden_layer_size': hp.choice('hidden_layer_sizes', [(5,), (50,), (50,50)]),\n",
    "     'alpha': hp.lognormal('alpha', mu=np.log(1e-4), sigma=1),\n",
    "     'solver': hp.choice('algorithm', ['sgd', 'adam']),\n",
    "     'activation': hp.choice('activation', ['tanh']),\n",
    "     'learning_rate_init': hp.loguniform('learning_rate_init', low=np.log(1e-4), high=np.log(1.)),\n",
    "     }\n",
    "\n",
    "\n",
    "def objective_fn(args):\n",
    "    dict = {\n",
    "        'hidden_layer_sizes': args['hidden_layer_size'],\n",
    "        'alpha': args['alpha'],\n",
    "        'activation': args['activation'],\n",
    "        'solver': args['solver'],\n",
    "        'learning_rate_init': args['learning_rate_init'],\n",
    "        'max_iter': 2000,\n",
    "    }\n",
    "    classifier = MLPClassifier(**dict)\n",
    "    classifier.fit(x_train, y_train)\n",
    "    loss = -classifier.score(x_test, y_test)\n",
    "    return {'loss': loss, 'status': STATUS_OK, 'model': classifier}\n",
    "\n",
    "\n",
    "trials = Trials()\n",
    "best = fmin(objective_fn,\n",
    "            space=coarse_search_space,\n",
    "            algo=tpe.suggest,\n",
    "            trials=trials,\n",
    "            max_evals=50)\n",
    "\n",
    "best_model = trials.best_trial['result']['model']\n",
    "print(\"Training Accuracy: %f\" % best_model.score(x_train, y_train))\n",
    "print(\"Testing Accuracy: %f\" % best_model.score(x_test, y_test))\n",
    "y_pred = best_model.predict(x_test)\n",
    "cm = confusion_matrix(y_test, y_pred)\n",
    "disp = ConfusionMatrixDisplay(confusion_matrix=cm)\n",
    "disp.plot()\n",
    "plt.show()\n",
    "print(classification_report(y_pred, y_test))\n",
    "print(best_model)\n",
    "\n",
    "# Get weights\n",
    "for i in range(len(best_model.coefs_)):\n",
    "    weights_file = open('weights' + str(i) + '.txt', \"w\")\n",
    "    weights_file.write(repr(best_model.coefs_[i]))\n",
    "    weights_file.close()\n",
    "\n",
    "\n",
    "# Get bias\n",
    "for i in range(len(best_model.intercepts_)):\n",
    "    bias_file = open('bias' + str(i) + '.txt', \"w\")\n",
    "    bias_file.write(repr(best_model.intercepts_[i]))\n",
    "    bias_file.close()"
   ]
  },
  {
   "cell_type": "code",
   "execution_count": null,
   "id": "499dfd2b",
   "metadata": {},
   "outputs": [],
   "source": []
  }
 ],
 "metadata": {
  "kernelspec": {
   "display_name": "Python 3 (ipykernel)",
   "language": "python",
   "name": "python3"
  },
  "language_info": {
   "codemirror_mode": {
    "name": "ipython",
    "version": 3
   },
   "file_extension": ".py",
   "mimetype": "text/x-python",
   "name": "python",
   "nbconvert_exporter": "python",
   "pygments_lexer": "ipython3",
   "version": "3.10.4"
  }
 },
 "nbformat": 4,
 "nbformat_minor": 5
}

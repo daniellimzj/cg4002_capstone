{
 "cells": [
  {
   "cell_type": "code",
   "execution_count": 1,
   "id": "f795cb2b",
   "metadata": {},
   "outputs": [],
   "source": [
    "import pandas as pd\n",
    "import matplotlib.pyplot as plt\n",
    "import numpy as np\n",
    "from hyperopt import fmin, tpe, Trials, hp, STATUS_OK\n",
    "from hyperopt.early_stop import no_progress_loss\n",
    "from sklearn.model_selection import train_test_split\n",
    "from sklearn.neural_network import MLPClassifier\n",
    "from sklearn.metrics import accuracy_score, classification_report, confusion_matrix, ConfusionMatrixDisplay\n",
    "\n",
    "# config\n",
    "np.set_printoptions(threshold=np.inf)\n",
    "np.set_printoptions(formatter={'float_kind':'{:.12f}'.format})"
   ]
  },
  {
   "cell_type": "code",
   "execution_count": 2,
   "id": "bb53af1f",
   "metadata": {},
   "outputs": [],
   "source": [
    "data = pd.read_csv('extracted_features.csv')\n",
    "x = data[['Mean-accX','Range-accX','Var-accX', 'Median-accX',\n",
    "          'Mean-accY', 'Range-accY', 'Var-accY', 'Median-accY',\n",
    "          'Mean-accZ', 'Range-accZ', 'Var-accZ', 'Median-accZ', \n",
    "          'Mean-gyroX', 'Range-gyroX', 'Var-gyroX', 'Median-gyroX',\n",
    "          'Mean-gyroY', 'Range-gyroY', 'Var-gyroY', 'Median-gyroY',\n",
    "          'Mean-gyroZ', 'Range-gyroZ', 'Var-gyroZ', 'Median-gyroZ',\n",
    "          ]]\n",
    "y = data[['label']]\n",
    "y = y.values.reshape(-1, )\n",
    "x_train, x_test, y_train, y_test = train_test_split(x, y, test_size=0.3, random_state=42)"
   ]
  },
  {
   "cell_type": "code",
   "execution_count": 3,
   "id": "1751af86",
   "metadata": {},
   "outputs": [
    {
     "name": "stdout",
     "output_type": "stream",
     "text": [
      "baseline accuracy:0.7330316742081447\n"
     ]
    }
   ],
   "source": [
    "baseline_classifier = MLPClassifier(hidden_layer_sizes=(60,60),\n",
    "                                    activation='tanh',)\n",
    "baseline_classifier.fit(x_train, y_train)\n",
    "y_baseline_pred = baseline_classifier.predict(x_test)\n",
    "print(\"baseline accuracy:\" + str(accuracy_score(y_test, y_baseline_pred)))"
   ]
  },
  {
   "cell_type": "code",
   "execution_count": 4,
   "id": "ba880db8",
   "metadata": {},
   "outputs": [
    {
     "name": "stdout",
     "output_type": "stream",
     "text": [
      "100%|█████████████████████████████████████████████| 500/500 [13:47<00:00,  1.65s/trial, best loss: -0.8778280542986425]\n",
      "Training Accuracy: 0.972816\n",
      "Testing Accuracy: 0.877828\n"
     ]
    },
    {
     "data": {
      "image/png": "[encoded data removed]",
      "text/plain": [
       "<Figure size 432x288 with 1 Axes>"
      ]
     },
     "metadata": {
      "needs_background": "light"
     },
     "output_type": "display_data"
    },
    {
     "data": {
      "image/png": "[encoded data removed]",
      "text/plain": [
       "<Figure size 432x288 with 2 Axes>"
      ]
     },
     "metadata": {
      "needs_background": "light"
     },
     "output_type": "display_data"
    },
    {
     "name": "stdout",
     "output_type": "stream",
     "text": [
      "              precision    recall  f1-score   support\n",
      "\n",
      "           1       0.78      0.97      0.86        29\n",
      "           2       0.86      0.70      0.78        27\n",
      "           3       0.93      0.96      0.95        28\n",
      "           4       0.94      0.91      0.93        91\n",
      "           5       0.80      0.80      0.80        46\n",
      "\n",
      "    accuracy                           0.88       221\n",
      "   macro avg       0.86      0.87      0.86       221\n",
      "weighted avg       0.88      0.88      0.88       221\n",
      "\n",
      "MLPClassifier(activation='tanh', alpha=5.154172627063046e-07,\n",
      "              hidden_layer_sizes=(100, 100),\n",
      "              learning_rate_init=0.0017854990901037923, max_iter=5000)\n"
     ]
    }
   ],
   "source": [
    "# # Hyperparameter Optimization\n",
    "coarse_search_space = \\\n",
    "    {'hidden_layer_size': hp.choice('hidden_layer_sizes', [(100,100), (100,50), (50,50)]),\n",
    "     'alpha': hp.lognormal('alpha', mu=np.log(1e-4), sigma=1),\n",
    "     'solver': hp.choice('algorithm', ['sgd', 'adam']),\n",
    "     'activation': hp.choice('activation', ['tanh']),\n",
    "     'learning_rate_init': hp.loguniform('learning_rate_init', low=np.log(1e-4), high=np.log(1.)),\n",
    "     }\n",
    "\n",
    "\n",
    "def objective_fn(args):\n",
    "    dict = {\n",
    "        'hidden_layer_sizes': args['hidden_layer_size'],\n",
    "        'alpha': args['alpha'],\n",
    "        'activation': args['activation'],\n",
    "        'solver': args['solver'],\n",
    "        'learning_rate_init': args['learning_rate_init'],\n",
    "        'max_iter': 5000,\n",
    "    }\n",
    "    classifier = MLPClassifier(**dict)\n",
    "    classifier.fit(x_train, y_train)\n",
    "    loss = -classifier.score(x_test, y_test)\n",
    "    return {'loss': loss, 'status': STATUS_OK, 'model': classifier}\n",
    "\n",
    "\n",
    "trials = Trials()\n",
    "best = fmin(objective_fn,\n",
    "            space=coarse_search_space,\n",
    "            algo=tpe.suggest,\n",
    "            trials=trials,\n",
    "            max_evals=500)\n",
    "\n",
    "best_model = trials.best_trial['result']['model']\n",
    "plt.plot(best_model.loss_curve_)\n",
    "print(\"Training Accuracy: %f\" % best_model.score(x_train, y_train))\n",
    "print(\"Testing Accuracy: %f\" % best_model.score(x_test, y_test))\n",
    "y_pred = best_model.predict(x_test)\n",
    "cm = confusion_matrix(y_test, y_pred)\n",
    "disp = ConfusionMatrixDisplay(confusion_matrix=cm)\n",
    "disp.plot()\n",
    "plt.show()\n",
    "print(classification_report(y_pred, y_test))\n",
    "print(best_model)\n",
    "\n",
    "# Get weights\n",
    "for i in range(len(best_model.coefs_)):\n",
    "    weights_file = open('weights' + str(i) + '.txt', \"w\")\n",
    "    weights_file.write(repr(best_model.coefs_[i]))\n",
    "    weights_file.close()\n",
    "\n",
    "\n",
    "# Get bias\n",
    "for i in range(len(best_model.intercepts_)):\n",
    "    bias_file = open('bias' + str(i) + '.txt', \"w\")\n",
    "    bias_file.write(repr(best_model.intercepts_[i]))\n",
    "    bias_file.close()"
   ]
  },
  {
   "cell_type": "code",
   "execution_count": null,
   "id": "499dfd2b",
   "metadata": {},
   "outputs": [],
   "source": []
  }
 ],
 "metadata": {
  "kernelspec": {
   "display_name": "Python 3 (ipykernel)",
   "language": "python",
   "name": "python3"
  },
  "language_info": {
   "codemirror_mode": {
    "name": "ipython",
    "version": 3
   },
   "file_extension": ".py",
   "mimetype": "text/x-python",
   "name": "python",
   "nbconvert_exporter": "python",
   "pygments_lexer": "ipython3",
   "version": "3.10.4"
  }
 },
 "nbformat": 4,
 "nbformat_minor": 5
}
